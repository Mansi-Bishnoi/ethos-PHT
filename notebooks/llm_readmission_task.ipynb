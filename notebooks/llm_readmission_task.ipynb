{
 "cells": [
  {
   "cell_type": "code",
   "id": "5a923587b3d9dcc5",
   "metadata": {
    "collapsed": true,
    "ExecuteTime": {
     "end_time": "2024-07-01T19:17:21.646385Z",
     "start_time": "2024-07-01T19:17:21.630755Z"
    }
   },
   "source": [
    "%load_ext autoreload\n",
    "%autoreload 2"
   ],
   "outputs": [],
   "execution_count": 3
  },
  {
   "metadata": {
    "ExecuteTime": {
     "end_time": "2024-07-01T19:17:24.792804Z",
     "start_time": "2024-07-01T19:17:22.139875Z"
    }
   },
   "cell_type": "code",
   "source": [
    "from dotenv import load_dotenv, find_dotenv\n",
    "\n",
    "from ethos.constants import PROJECT_DATA\n",
    "from ethos.datasets import ReadmissionDataset\n",
    "from ethos.tokenize import Vocabulary\n",
    "from ethos.utils import load_data\n",
    "\n",
    "_ = load_dotenv(find_dotenv())\n",
    "\n",
    "data_dir = PROJECT_DATA / \"tokenized_datasets\"\n",
    "\n",
    "vocab = Vocabulary(data_dir / \"mimic_vocab_t4367.pkl\")\n",
    "decode = vocab.decode\n",
    "\n",
    "data = load_data(data_dir / \"mimic_test_timelines_p26758.hdf5\")\n",
    "block_size = 1024\n",
    "dataset = ReadmissionDataset(data, vocab.encode, block_size)\n",
    "context_size = dataset.context_len\n",
    "f\"Number of instances: {len(dataset):,}\""
   ],
   "id": "65f5fdc1af2cb904",
   "outputs": [
    {
     "data": {
      "text/plain": [
       "'Number of instances: 42,440'"
      ]
     },
     "execution_count": 4,
     "metadata": {},
     "output_type": "execute_result"
    }
   ],
   "execution_count": 4
  },
  {
   "metadata": {},
   "cell_type": "code",
   "outputs": [
    {
     "data": {
      "text/plain": [
       "(array(['SEX_M', 'RACE_WHITE', 'MARITAL_MARRIED', ..., 'ATC_SUFFIX_A05',\n",
       "        '_15m-1h', 'INPATIENT_ADMISSION_END'], dtype=object),\n",
       " {'expected': 0,\n",
       "  'patient_id': 11593131,\n",
       "  'patient_age': 65.62353515625,\n",
       "  'discharge_token_idx': 2148})"
      ]
     },
     "execution_count": 5,
     "metadata": {},
     "output_type": "execute_result"
    }
   ],
   "execution_count": 5,
   "source": [
    "timeline, y = dataset[1]\n",
    "decode(timeline[:]), y"
   ],
   "id": "initial_id"
  },
  {
   "metadata": {
    "ExecuteTime": {
     "end_time": "2024-07-01T19:17:30.685830Z",
     "start_time": "2024-07-01T19:17:30.660725Z"
    }
   },
   "cell_type": "code",
   "source": [
    "ctx = decode(timeline[:context_size])\n",
    "patient_history = decode(timeline[context_size:])\n",
    "ctx"
   ],
   "id": "5b4b4fad40fa0d1e",
   "outputs": [
    {
     "data": {
      "text/plain": [
       "array(['SEX_M', 'RACE_WHITE', 'MARITAL_MARRIED', '_Q7', '_65-70y',\n",
       "       '_45-50y'], dtype=object)"
      ]
     },
     "execution_count": 6,
     "metadata": {},
     "output_type": "execute_result"
    }
   ],
   "execution_count": 6
  },
  {
   "metadata": {
    "ExecuteTime": {
     "end_time": "2024-07-01T19:17:31.829416Z",
     "start_time": "2024-07-01T19:17:31.807621Z"
    }
   },
   "cell_type": "code",
   "source": [
    "def ctx_to_values(context: list):\n",
    "    return {\n",
    "        \"gender\": \"male\" if context[0][-1].lower() == \"m\" else \"female\",\n",
    "        \"race\": context[1].lower()[5:],\n",
    "        \"marital_status\": context[2].lower()[len(\"MARITAL_\"):],\n",
    "        \"bmi_q\": context[3][2:],\n",
    "        **{\n",
    "            f\"age_{i}\": age\n",
    "            for i, age in enumerate(context[4][1:-1].split(\"-\"))\n",
    "        },\n",
    "        **{\n",
    "            f\"year_{i}\": int(year) + 1970 for i, year in enumerate(context[5][1:-1].split(\"-\"))\n",
    "        },\n",
    "    }\n",
    "\n",
    "\n",
    "ctx_to_values(ctx)"
   ],
   "id": "dc8488df95588c95",
   "outputs": [
    {
     "data": {
      "text/plain": [
       "{'gender': 'male',\n",
       " 'race': 'white',\n",
       " 'marital_status': 'married',\n",
       " 'bmi_q': '7',\n",
       " 'age_0': '65',\n",
       " 'age_1': '70',\n",
       " 'year_0': 2015,\n",
       " 'year_1': 2020}"
      ]
     },
     "execution_count": 7,
     "metadata": {},
     "output_type": "execute_result"
    }
   ],
   "execution_count": 7
  },
  {
   "metadata": {
    "ExecuteTime": {
     "end_time": "2024-07-01T19:17:33.086010Z",
     "start_time": "2024-07-01T19:17:33.059223Z"
    }
   },
   "cell_type": "code",
   "source": [
    "from string import Template\n",
    "\n",
    "PROMPT = Template(\"\"\"Your task is to determine the probability of a patient being readmitted to the hospital within 30 days \\\n",
    "following their discharge. Using the provided patient context and a timeline of health events from their \\\n",
    "Electronic Health Records (EHR), perform the following steps:\n",
    "\n",
    "1. Review the basic information about the patient to understand their general health profile.\n",
    "2. Analyze the health events from the EHR data, which are detailed in a specialized language as described \\\n",
    "below. Consider these events in chronological order to gauge recent and relevant health activities.\n",
    "3. Based on your analysis, provide a probability (as a floating point number) of the patient being readmitted within \\\n",
    "the next 30 days. Please focus solely on providing this probability without any additional explanatory text.\n",
    "\n",
    "Patient Context:\n",
    "```\n",
    "The patient is a ${marital_status}, ${race} ${gender}, aged between ${age_0} and ${age_1} years. Their Body \\\n",
    "Mass Index (BMI) ranks in the ${bmi_q}th decile of the population. The health history timeline begins between \\\n",
    "the years ${year_0} and ${year_1}.\n",
    "```\n",
    "\n",
    "Timeline Event Language Guide:\n",
    "- Lab Results (`LAB_` prefix): Represents laboratory test results. Each lab test's name is prefixed with `LAB_`, \\\n",
    "followed by the specific test name and its measurement units incorporated within. The result is given in a decile \\\n",
    "form (from `Q1` for the lowest decile to `Q10` for the highest decile), representing the patient’s result as \\\n",
    "compared to the general population.\n",
    "- Diagnoses (`ICD_` prefix): Relates to diagnosis codes from the ICD-10 classification. Each code starts with \\\n",
    "`ICD_` and may be split across up to three consecutive events. The initial segment provides a plain language description \\\n",
    "of the condition or diagnosis. Subsequent segments delve deeper into the specific aspects of the code, enhancing the \\\n",
    "granularity of the diagnosis provided.\n",
    "- Medications (`ATC_` prefix): Concerns medication prescriptions or administrations, coded according to the Anatomical \\\n",
    "Therapeutic Chemical (ATC) Classification System. Each medication event starts with `ATC_`, followed by a breakdown of up \\\n",
    "to three parts of the hierarchical ATC code, each part further refining the type of medication involved. The first part \\\n",
    "conveys the general therapeutic class.\n",
    "- Time Intervals: Marks the passage of time with specific tokens (e.g., `5m-15m`, `15m-1h`, `1h-2h`, etc.). These \\\n",
    "intervals help contextualize the timing between health events, indicating how much time has elapsed between documented \\\n",
    "events. All events without a time interval token are assumed to occur simultaneously.\n",
    "- Hospital Admissions (`{X}_ADMISSION_START` and `{X}_ADMISSION_END`): These tokens signify the beginning and end of a hospital \\\n",
    "or specific department stay. `{X}` can be replaced with `ED` for Emergency Department, `INPATIENT` for an inpatient unit, \\\n",
    "or `ICU` for Intensive Care Unit. Each admission event is followed by a decile ranking of the length of stay compared to other \\\n",
    "similar stays, and in the case of inpatient stays, also includes the associated Diagnosis-Related Group (DRG) code.\n",
    "- Transfers (`TRANSFER_` prefix): Indicates when a patient is transferred between different departments within a hospital. \\\n",
    "The specific departments involved are appended to the prefix, giving a clear indication of the patient's movement within the \\\n",
    "healthcare facility.\n",
    "- Additional Events: Any other events not specifically categorized by the above prefixes are described in a straightforward \\\n",
    "manner based on their names, assuming that their implications are clear from the context or common medical knowledge.\n",
    "\n",
    "Patient history in the form of a timeline of health events:\n",
    "```\n",
    "${patient_history}\n",
    "```\n",
    "Use this structured information to assess the patient's likelihood of readmission. Your precise and context-aware analysis is crucial for an accurate prediction.\n",
    "\"\"\")\n",
    "\n",
    "\n",
    "def create_prompt(_timeline):\n",
    "    _timeline = decode(_timeline)\n",
    "    context, _timeline = _timeline[:context_size], _timeline[context_size:]\n",
    "    _timeline = (str(t).strip().replace(\" \", \"_\") for t in _timeline)\n",
    "    _timeline = [t[1:] if t.startswith(\"_\") else t for t in _timeline]\n",
    "    return PROMPT.substitute(ctx_to_values(context), patient_history=\" \".join(_timeline))\n",
    "\n",
    "\n",
    "example_prompt = create_prompt(timeline)\n",
    "example_prompt, len(example_prompt) / 2.6"
   ],
   "id": "e46046d7b9673915",
   "outputs": [
    {
     "data": {
      "text/plain": [
       "(\"Your task is to determine the probability of a patient being readmitted to the hospital within 30 days following their discharge. Using the provided patient context and a timeline of health events from their Electronic Health Records (EHR), perform the following steps:\\n\\n1. Review the basic information about the patient to understand their general health profile.\\n2. Analyze the health events from the EHR data, which are detailed in a specialized language as described below. Consider these events in chronological order to gauge recent and relevant health activities.\\n3. Based on your analysis, provide a probability (as a floating point number) of the patient being readmitted within the next 30 days. Please focus solely on providing this probability without any additional explanatory text.\\n\\nPatient Context:\\n```\\nThe patient is a married, white male, aged between 65 and 70 years. Their Body Mass Index (BMI) ranks in the 7th decile of the population. The health history timeline begins between the years 2015 and 2020.\\n```\\n\\nTimeline Event Language Guide:\\n- Lab Results (`LAB_` prefix): Represents laboratory test results. Each lab test's name is prefixed with `LAB_`, followed by the specific test name and its measurement units incorporated within. The result is given in a decile form (from `Q1` for the lowest decile to `Q10` for the highest decile), representing the patient’s result as compared to the general population.\\n- Diagnoses (`ICD_` prefix): Relates to diagnosis codes from the ICD-10 classification. Each code starts with `ICD_` and may be split across up to three consecutive events. The initial segment provides a plain language description of the condition or diagnosis. Subsequent segments delve deeper into the specific aspects of the code, enhancing the granularity of the diagnosis provided.\\n- Medications (`ATC_` prefix): Concerns medication prescriptions or administrations, coded according to the Anatomical Therapeutic Chemical (ATC) Classification System. Each medication event starts with `ATC_`, followed by a breakdown of up to three parts of the hierarchical ATC code, each part further refining the type of medication involved. The first part conveys the general therapeutic class.\\n- Time Intervals: Marks the passage of time with specific tokens (e.g., `5m-15m`, `15m-1h`, `1h-2h`, etc.). These intervals help contextualize the timing between health events, indicating how much time has elapsed between documented events. All events without a time interval token are assumed to occur simultaneously.\\n- Hospital Admissions (`{X}_ADMISSION_START` and `{X}_ADMISSION_END`): These tokens signify the beginning and end of a hospital or specific department stay. `{X}` can be replaced with `ED` for Emergency Department, `INPATIENT` for an inpatient unit, or `ICU` for Intensive Care Unit. Each admission event is followed by a decile ranking of the length of stay compared to other similar stays, and in the case of inpatient stays, also includes the associated Diagnosis-Related Group (DRG) code.\\n- Transfers (`TRANSFER_` prefix): Indicates when a patient is transferred between different departments within a hospital. The specific departments involved are appended to the prefix, giving a clear indication of the patient's movement within the healthcare facility.\\n- Additional Events: Any other events not specifically categorized by the above prefixes are described in a straightforward manner based on their names, assuming that their implications are clear from the context or common medical knowledge.\\n\\nPatient history in the form of a timeline of health events:\\n```\\nATC_4_B ATC_SUFFIX_E01 1h-2h ICU_STAY_START Surgical_Intensive_Care_Unit_(SICU) SOFA Q1 15m-1h LAB_Absolute_Lymphocyte_Count_K/uL Q2 LAB_Basophils_% Q1 LAB_Eosinophils_% Q1 LAB_Hematocrit_% Q7 LAB_Hemoglobin_g/dL Q7 LAB_Lymphocytes_% Q2 LAB_MCH_pg Q8 LAB_MCHC_g/dL Q8 LAB_MCV_fL Q8 LAB_Monocytes_% Q7 LAB_Neutrophils_% Q9 LAB_Platelet_Count_K/uL Q3 LAB_RDW_% Q4 LAB_Red_Blood_Cells_m/uL Q6 LAB_White_Blood_Cells_K/uL Q5 LAB_Absolute_Basophil_Count_K/uL Q1 LAB_Absolute_Eosinophil_Count_K/uL Q1 LAB_Absolute_Monocyte_Count_K/uL Q5 LAB_Absolute_Neutrophil_Count_K/uL Q7 LAB_Immature_Granulocytes_% Q2 LAB_RDW-SD_fL Q5 LAB_Anion_Gap_mEq/L Q3 LAB_Bicarbonate_mEq/L Q6 LAB_Calcium,_Total_mg/dL Q2 LAB_Chloride_mEq/L Q5 LAB_Creatinine_mg/dL Q2 LAB_Glucose_mg/dL Q8 LAB_H_no_unit Q7 LAB_I_no_unit Q1 LAB_Magnesium_mg/dL Q3 LAB_Phosphate_mg/dL Q7 LAB_Potassium_mEq/L Q8 LAB_Sodium_mEq/L Q7 LAB_Urea_Nitrogen_mg/dL Q3 LAB_L_no_unit Q4 15m-1h LAB_Base_Excess_mEq/L Q6 LAB_Calculated_Total_CO2_mEq/L Q8 LAB_pCO2_mm_Hg Q7 LAB_pH_units Q7 LAB_pO2_mm_Hg Q5 2h-6h ATC_anti-asthmatics ATC_4_A ATC_SUFFIX_C02 5m-15m ATC_analgesics ATC_4_B ATC_SUFFIX_E01 15m-1h ATC_anti-asthmatics ATC_4_A ATC_SUFFIX_C02 2h-6h ATC_drugs_for_acid_related_disorders ATC_4_B ATC_SUFFIX_C02 1h-2h ATC_antithrombotic_agents ATC_4_A ATC_SUFFIX_B01 1h-2h ATC_anti-asthmatics ATC_4_A ATC_SUFFIX_C02 1h-2h ATC_analgesics ATC_4_B ATC_SUFFIX_E01 15m-1h ATC_anti-asthmatics ATC_4_A ATC_SUFFIX_C02 2h-6h ATC_anti-asthmatics ATC_4_A ATC_SUFFIX_C02 1h-2h ATC_analgesics ATC_4_B ATC_SUFFIX_E01 1h-2h ATC_anti-asthmatics ATC_4_A ATC_SUFFIX_C02 1h-2h ATC_antithrombotic_agents ATC_4_A ATC_SUFFIX_B01 ATC_drugs_for_acid_related_disorders ATC_4_B ATC_SUFFIX_C02 5m-15m ATC_anti-asthmatics ATC_4_A ATC_SUFFIX_C02 1h-2h ATC_vasoprotectives ATC_4_A ATC_SUFFIX_D03 15m-1h ATC_antipruritics,_incl._antihistamines,_anesthetics,_etc. ATC_4_A ATC_SUFFIX_A32 2h-6h ATC_analgesics ATC_4_B ATC_SUFFIX_E01 ATC_anti-asthmatics ATC_4_A ATC_SUFFIX_C02 15m-1h LAB_Hematocrit_% Q7 LAB_Hemoglobin_g/dL Q6 LAB_MCH_pg Q8 LAB_MCHC_g/dL Q5 LAB_MCV_fL Q9 LAB_Platelet_Count_K/uL Q3 LAB_RDW_% Q4 LAB_Red_Blood_Cells_m/uL Q5 LAB_White_Blood_Cells_K/uL Q4 LAB_RDW-SD_fL Q6 LAB_INR(PT)_no_unit Q4 LAB_PT_sec Q5 LAB_PTT_sec Q2 LAB_Anion_Gap_mEq/L Q4 LAB_Bicarbonate_mEq/L Q4 LAB_Calcium,_Total_mg/dL Q3 LAB_Chloride_mEq/L Q5 LAB_Creatinine_mg/dL Q2 LAB_Glucose_mg/dL Q8 LAB_H_no_unit Q9 LAB_I_no_unit Q2 LAB_Magnesium_mg/dL Q2 LAB_Phosphate_mg/dL Q1 LAB_Potassium_mEq/L Q6 LAB_Sodium_mEq/L Q6 LAB_Urea_Nitrogen_mg/dL Q2 LAB_L_no_unit Q2 ATC_beta_blocking_agents ATC_4_A ATC_SUFFIX_B02 15m-1h ATC_beta_blocking_agents ATC_4_A ATC_SUFFIX_B02 1h-2h ATC_mineral_supplements ATC_4_C ATC_SUFFIX_C02 ATC_laxatives ATC_4_A ATC_SUFFIX_D04 15m-1h LAB_Base_Excess_mEq/L Q6 LAB_Calculated_Total_CO2_mEq/L Q6 LAB_Free_Calcium_mmol/L Q2 LAB_Lactate_mmol/L Q2 LAB_pCO2_mm_Hg Q5 LAB_pH_units Q8 LAB_pO2_mm_Hg Q4 1h-2h ATC_mineral_supplements ATC_4_A ATC_SUFFIX_A03 1h-2h ATC_analgesics ATC_4_B ATC_SUFFIX_E01 ATC_anti-asthmatics ATC_4_A ATC_SUFFIX_C02 15m-1h ATC_laxatives ATC_4_A ATC_SUFFIX_G01 15m-1h ATC_beta_blocking_agents ATC_4_A ATC_SUFFIX_B02 1h-2h ATC_antithrombotic_agents ATC_4_A ATC_SUFFIX_B01 ATC_drugs_for_acid_related_disorders ATC_4_B ATC_SUFFIX_C02 1h-2h ATC_ophthalmologicals ATC_4_X ATC_SUFFIX_A20 2h-6h ATC_anti-asthmatics ATC_4_A ATC_SUFFIX_C02 ATC_vasoprotectives ATC_4_A ATC_SUFFIX_D03 1h-2h ATC_antipruritics,_incl._antihistamines,_anesthetics,_etc. ATC_4_A ATC_SUFFIX_X 15m-1h ATC_analgesics ATC_4_B ATC_SUFFIX_E01 2h-6h ATC_anti-asthmatics ATC_4_A ATC_SUFFIX_C02 1h-2h ATC_antithrombotic_agents ATC_4_A ATC_SUFFIX_B01 ATC_drugs_for_acid_related_disorders ATC_4_B ATC_SUFFIX_C02 ATC_analgesics ATC_4_B ATC_SUFFIX_E01 ATC_antipruritics,_incl._antihistamines,_anesthetics,_etc. ATC_4_A ATC_SUFFIX_A32 15m-1h ATC_beta_blocking_agents ATC_4_A ATC_SUFFIX_B02 1h-2h ICU_STAY_END Q5 15m-1h ATC_anti-asthmatics ATC_4_A ATC_SUFFIX_C02 2h-6h ATC_analgesics ATC_4_B ATC_SUFFIX_E01 1h-2h ATC_anti-asthmatics ATC_4_A ATC_SUFFIX_C02 1h-2h LAB_Hematocrit_% Q6 LAB_Hemoglobin_g/dL Q6 LAB_MCH_pg Q8 LAB_MCHC_g/dL Q4 LAB_MCV_fL Q9 LAB_Platelet_Count_K/uL Q3 LAB_RDW_% Q2 LAB_Red_Blood_Cells_m/uL Q5 LAB_White_Blood_Cells_K/uL Q5 LAB_RDW-SD_fL Q5 LAB_Anion_Gap_mEq/L Q3 LAB_Bicarbonate_mEq/L Q6 LAB_Calcium,_Total_mg/dL Q4 LAB_Chloride_mEq/L Q5 LAB_Creatinine_mg/dL Q3 LAB_Glucose_mg/dL Q8 LAB_H_no_unit Q8 LAB_I_no_unit Q1 LAB_Magnesium_mg/dL Q2 LAB_Phosphate_mg/dL Q2 LAB_Potassium_mEq/L Q6 LAB_Sodium_mEq/L Q7 LAB_Urea_Nitrogen_mg/dL Q3 LAB_L_no_unit Q2 15m-1h ATC_analgesics ATC_4_B ATC_SUFFIX_E01 2h-6h ATC_drugs_for_acid_related_disorders ATC_4_B ATC_SUFFIX_C02 ATC_anti-asthmatics ATC_4_A ATC_SUFFIX_C02 1h-2h ATC_mineral_supplements ATC_4_C ATC_SUFFIX_C02 ATC_laxatives ATC_4_A ATC_SUFFIX_D04 5m-15m ATC_anti-asthmatics ATC_4_A ATC_SUFFIX_C02 1h-2h ATC_analgesics ATC_4_B ATC_SUFFIX_E01 2h-6h ATC_beta_blocking_agents ATC_4_A ATC_SUFFIX_B02 5m-15m ATC_mineral_supplements ATC_4_C ATC_SUFFIX_C02 ATC_laxatives ATC_4_A ATC_SUFFIX_D04 2h-6h ATC_beta_blocking_agents ATC_4_A ATC_SUFFIX_B02 5m-15m ATC_anti-asthmatics ATC_4_A ATC_SUFFIX_C02 5m-15m ATC_analgesics ATC_4_B ATC_SUFFIX_E01 5m-15m ATC_laxatives ATC_4_A ATC_SUFFIX_B02 1h-2h ATC_drugs_for_acid_related_disorders ATC_4_B ATC_SUFFIX_C02 2h-6h ATC_antipruritics,_incl._antihistamines,_anesthetics,_etc. ATC_4_A ATC_SUFFIX_A32 15m-1h ATC_analgesics ATC_4_B ATC_SUFFIX_E01 ATC_anti-asthmatics ATC_4_A ATC_SUFFIX_C02 ATC_beta_blocking_agents ATC_4_A ATC_SUFFIX_B02 2h-6h LAB_Anion_Gap_mEq/L Q6 LAB_Bicarbonate_mEq/L Q6 LAB_Calcium,_Total_mg/dL Q4 LAB_Chloride_mEq/L Q3 LAB_Creatinine_mg/dL Q3 LAB_Glucose_mg/dL Q8 LAB_H_no_unit Q4 LAB_I_no_unit Q1 LAB_Magnesium_mg/dL Q5 LAB_Phosphate_mg/dL Q4 LAB_Potassium_mEq/L Q6 LAB_Sodium_mEq/L Q7 LAB_Urea_Nitrogen_mg/dL Q3 LAB_L_no_unit Q4 LAB_Hematocrit_% Q7 LAB_Hemoglobin_g/dL Q7 LAB_MCH_pg Q9 LAB_MCHC_g/dL Q7 LAB_MCV_fL Q9 LAB_Platelet_Count_K/uL Q5 LAB_RDW_% Q2 LAB_Red_Blood_Cells_m/uL Q6 LAB_White_Blood_Cells_K/uL Q4 LAB_RDW-SD_fL Q4 15m-1h ATC_beta_blocking_agents ATC_4_A ATC_SUFFIX_B02 ATC_anti-asthmatics ATC_4_A ATC_SUFFIX_C02 ATC_analgesics ATC_4_B ATC_SUFFIX_E01 2h-6h ATC_drugs_for_acid_related_disorders ATC_4_B ATC_SUFFIX_C02 2h-6h ATC_beta_blocking_agents ATC_4_A ATC_SUFFIX_B02 ATC_anti-asthmatics ATC_4_A ATC_SUFFIX_C02 ATC_analgesics ATC_4_B ATC_SUFFIX_E01 2h-6h ATC_analgesics ATC_4_B ATC_SUFFIX_E01 ATC_anti-asthmatics ATC_4_A ATC_SUFFIX_C02 ATC_beta_blocking_agents ATC_4_A ATC_SUFFIX_B02 2h-6h ATC_antithrombotic_agents ATC_4_A ATC_SUFFIX_B01 ATC_drugs_for_acid_related_disorders ATC_4_B ATC_SUFFIX_C02 2h-6h ATC_analgesics ATC_4_B ATC_SUFFIX_E01 ATC_anti-asthmatics ATC_4_A ATC_SUFFIX_C02 ATC_beta_blocking_agents ATC_4_A ATC_SUFFIX_B02 ATC_antipruritics,_incl._antihistamines,_anesthetics,_etc. ATC_4_A ATC_SUFFIX_A32 2h-6h LAB_Anion_Gap_mEq/L Q6 LAB_Bicarbonate_mEq/L Q5 LAB_Calcium,_Total_mg/dL Q4 LAB_Chloride_mEq/L Q3 LAB_Creatinine_mg/dL Q2 LAB_Glucose_mg/dL Q8 LAB_H_no_unit Q4 LAB_I_no_unit Q1 LAB_Magnesium_mg/dL Q4 LAB_Phosphate_mg/dL Q3 LAB_Potassium_mEq/L Q2 LAB_Sodium_mEq/L Q7 LAB_Urea_Nitrogen_mg/dL Q2 LAB_L_no_unit Q1 LAB_Hematocrit_% Q7 LAB_Hemoglobin_g/dL Q7 LAB_MCH_pg Q8 LAB_MCHC_g/dL Q8 LAB_MCV_fL Q8 LAB_Platelet_Count_K/uL Q5 LAB_RDW_% Q2 LAB_Red_Blood_Cells_m/uL Q6 LAB_White_Blood_Cells_K/uL Q3 LAB_RDW-SD_fL Q3 1h-2h ATC_beta_blocking_agents ATC_4_A ATC_SUFFIX_B02 ATC_anti-asthmatics ATC_4_A ATC_SUFFIX_C02 ATC_analgesics ATC_4_B ATC_SUFFIX_E01 2h-6h ATC_antithrombotic_agents ATC_4_A ATC_SUFFIX_B01 ATC_drugs_for_acid_related_disorders ATC_4_B ATC_SUFFIX_C02 2h-6h ATC_analgesics ATC_4_B ATC_SUFFIX_E01 ATC_anti-asthmatics ATC_4_A ATC_SUFFIX_C02 ATC_mineral_supplements ATC_4_B ATC_SUFFIX_A01 15m-1h ATC_beta_blocking_agents ATC_4_A ATC_SUFFIX_B02 2h-6h ATC_analgesics ATC_4_B ATC_SUFFIX_E01 ATC_anti-asthmatics ATC_4_A ATC_SUFFIX_C02 15m-1h ATC_beta_blocking_agents ATC_4_A ATC_SUFFIX_B02 2h-6h ATC_antithrombotic_agents ATC_4_A ATC_SUFFIX_B01 ATC_drugs_for_acid_related_disorders ATC_4_B ATC_SUFFIX_C02 1h-2h ATC_anti-asthmatics ATC_4_A ATC_SUFFIX_C02 ATC_beta_blocking_agents ATC_4_A ATC_SUFFIX_B02 ATC_antipruritics,_incl._antihistamines,_anesthetics,_etc. ATC_4_A ATC_SUFFIX_A32 ATC_analgesics ATC_4_B ATC_SUFFIX_E01 2h-6h LAB_Hematocrit_% Q7 LAB_Hemoglobin_g/dL Q7 LAB_MCH_pg Q9 LAB_MCHC_g/dL Q9 LAB_MCV_fL Q8 LAB_Platelet_Count_K/uL Q6 LAB_RDW_% Q2 LAB_Red_Blood_Cells_m/uL Q6 LAB_White_Blood_Cells_K/uL Q4 LAB_RDW-SD_fL Q4 LAB_Anion_Gap_mEq/L Q7 LAB_Bicarbonate_mEq/L Q4 LAB_Calcium,_Total_mg/dL Q5 LAB_Chloride_mEq/L Q3 LAB_Creatinine_mg/dL Q2 LAB_Glucose_mg/dL Q9 LAB_H_no_unit Q5 LAB_I_no_unit Q1 LAB_Magnesium_mg/dL Q3 LAB_Phosphate_mg/dL Q4 LAB_Potassium_mEq/L Q5 LAB_Sodium_mEq/L Q7 LAB_Urea_Nitrogen_mg/dL Q1 LAB_L_no_unit Q6 5m-15m ATC_beta_blocking_agents ATC_4_A ATC_SUFFIX_B02 ATC_anti-asthmatics ATC_4_A ATC_SUFFIX_C02 ATC_analgesics ATC_4_B ATC_SUFFIX_E01 2h-6h ATC_antithrombotic_agents ATC_4_A ATC_SUFFIX_B01 ATC_drugs_for_acid_related_disorders ATC_4_B ATC_SUFFIX_C02 1h-2h ATC_mineral_supplements ATC_4_C ATC_SUFFIX_C02 ATC_laxatives ATC_4_A ATC_SUFFIX_D04 2h-6h ATC_anti-asthmatics ATC_4_A ATC_SUFFIX_C02 15m-1h ATC_analgesics ATC_4_B ATC_SUFFIX_E01 ATC_beta_blocking_agents ATC_4_A ATC_SUFFIX_B02 2h-6h ATC_analgesics ATC_4_B ATC_SUFFIX_E01 ATC_anti-asthmatics ATC_4_A ATC_SUFFIX_C02 ATC_beta_blocking_agents ATC_4_A ATC_SUFFIX_B02 2h-6h ATC_antithrombotic_agents ATC_4_A ATC_SUFFIX_B01 ATC_drugs_for_acid_related_disorders ATC_4_B ATC_SUFFIX_C02 ATC_antipruritics,_incl._antihistamines,_anesthetics,_etc. ATC_4_A ATC_SUFFIX_A32 1h-2h ATC_anti-asthmatics ATC_4_A ATC_SUFFIX_C02 ATC_analgesics ATC_4_B ATC_SUFFIX_E01 5m-15m ATC_anti-asthmatics ATC_4_A ATC_SUFFIX_C02 15m-1h ATC_beta_blocking_agents ATC_4_A ATC_SUFFIX_B02 2h-6h LAB_Anion_Gap_mEq/L Q6 LAB_Bicarbonate_mEq/L Q5 LAB_Calcium,_Total_mg/dL Q5 LAB_Chloride_mEq/L Q3 LAB_Creatinine_mg/dL Q1 LAB_Glucose_mg/dL Q9 LAB_H_no_unit Q7 LAB_I_no_unit Q1 LAB_Magnesium_mg/dL Q3 LAB_Phosphate_mg/dL Q5 LAB_Potassium_mEq/L Q6 LAB_Sodium_mEq/L Q6 LAB_Urea_Nitrogen_mg/dL Q1 LAB_L_no_unit Q1 LAB_Hematocrit_% Q7 LAB_Hemoglobin_g/dL Q6 LAB_MCH_pg Q7 LAB_MCHC_g/dL Q7 LAB_MCV_fL Q7 LAB_Platelet_Count_K/uL Q7 LAB_RDW_% Q2 LAB_Red_Blood_Cells_m/uL Q6 LAB_White_Blood_Cells_K/uL Q3 LAB_RDW-SD_fL Q3 1h-2h ATC_anti-asthmatics ATC_4_A ATC_SUFFIX_C02 ATC_analgesics ATC_4_B ATC_SUFFIX_E01 5m-15m ATC_beta_blocking_agents ATC_4_A ATC_SUFFIX_B02 1h-2h ATC_laxatives ATC_4_A ATC_SUFFIX_B02 ATC_antithrombotic_agents ATC_4_A ATC_SUFFIX_B01 ATC_drugs_for_acid_related_disorders ATC_4_B ATC_SUFFIX_C02 15m-1h ATC_analgesics ATC_4_A ATC_SUFFIX_A05 2h-6h ATC_anti-asthmatics ATC_4_A ATC_SUFFIX_C02 ATC_beta_blocking_agents ATC_4_A ATC_SUFFIX_B02 2h-6h ATC_drugs_used_in_diabetes ATC_4_A ATC_SUFFIX_E05 ATC_drugs_used_in_diabetes ATC_4_A ATC_SUFFIX_E04 ATC_drugs_used_in_diabetes ATC_4_A ATC_SUFFIX_B04 ATC_drugs_used_in_diabetes ATC_4_A ATC_SUFFIX_D05 ATC_drugs_used_in_diabetes ATC_4_A ATC_SUFFIX_E06 ATC_drugs_used_in_diabetes ATC_4_A ATC_SUFFIX_B05 ATC_analgesics ATC_4_A ATC_SUFFIX_A05 2h-6h ATC_analgesics ATC_4_B ATC_SUFFIX_E01 1h-2h ATC_anti-asthmatics ATC_4_A ATC_SUFFIX_C02 1h-2h ATC_antithrombotic_agents ATC_4_A ATC_SUFFIX_B01 ATC_beta_blocking_agents ATC_4_A ATC_SUFFIX_B02 ATC_lipid_modifying_agents ATC_4_A ATC_SUFFIX_A07 ATC_analgesics ATC_4_A ATC_SUFFIX_A05 1h-2h ATC_analgesics ATC_4_B ATC_SUFFIX_E01 ATC_drugs_used_in_diabetes ATC_4_A ATC_SUFFIX_E05 ATC_drugs_used_in_diabetes ATC_4_A ATC_SUFFIX_E04 ATC_drugs_used_in_diabetes ATC_4_A ATC_SUFFIX_B04 ATC_drugs_used_in_diabetes ATC_4_A ATC_SUFFIX_D05 ATC_drugs_used_in_diabetes ATC_4_A ATC_SUFFIX_E06 ATC_drugs_used_in_diabetes ATC_4_A ATC_SUFFIX_B05 ATC_anti-asthmatics ATC_4_A ATC_SUFFIX_C02 6h-12h LAB_Anion_Gap_mEq/L Q2 LAB_Bicarbonate_mEq/L Q7 LAB_Calcium,_Total_mg/dL Q4 LAB_Chloride_mEq/L Q3 LAB_Creatinine_mg/dL Q2 LAB_Glucose_mg/dL Q8 LAB_H_no_unit Q3 LAB_I_no_unit Q1 LAB_Magnesium_mg/dL Q3 LAB_Phosphate_mg/dL Q4 LAB_Potassium_mEq/L Q7 LAB_Sodium_mEq/L Q5 LAB_Urea_Nitrogen_mg/dL Q1 LAB_L_no_unit Q4 LAB_Hematocrit_% Q6 LAB_Hemoglobin_g/dL Q6 LAB_MCH_pg Q8 LAB_MCHC_g/dL Q8 LAB_MCV_fL Q7 LAB_Platelet_Count_K/uL Q8 LAB_RDW_% Q2 LAB_Red_Blood_Cells_m/uL Q5 LAB_White_Blood_Cells_K/uL Q2 LAB_RDW-SD_fL Q3 2h-6h ATC_analgesics ATC_4_B ATC_SUFFIX_E01 ATC_stomatological_preparations ATC_4_A ATC_SUFFIX_D05 ATC_antithrombotic_agents ATC_4_A ATC_SUFFIX_B01 ATC_drugs_used_in_diabetes ATC_4_A ATC_SUFFIX_E05 ATC_drugs_used_in_diabetes ATC_4_A ATC_SUFFIX_E04 ATC_drugs_used_in_diabetes ATC_4_A ATC_SUFFIX_B04 ATC_drugs_used_in_diabetes ATC_4_A ATC_SUFFIX_D05 ATC_drugs_used_in_diabetes ATC_4_A ATC_SUFFIX_E06 ATC_drugs_used_in_diabetes ATC_4_A ATC_SUFFIX_B05 ATC_drugs_for_acid_related_disorders ATC_4_B ATC_SUFFIX_C03 ATC_beta_blocking_agents ATC_4_A ATC_SUFFIX_B02 ATC_analgesics ATC_4_A ATC_SUFFIX_A05 2h-6h ATC_analgesics ATC_4_A ATC_SUFFIX_A05 15m-1h INPATIENT_ADMISSION_END\\n```\\nUse this structured information to assess the patient's likelihood of readmission. Your precise and context-aware analysis is crucial for an accurate prediction.\\n\",\n",
       " 6440.7692307692305)"
      ]
     },
     "execution_count": 8,
     "metadata": {},
     "output_type": "execute_result"
    }
   ],
   "execution_count": 8
  },
  {
   "metadata": {
    "ExecuteTime": {
     "end_time": "2024-07-01T19:33:54.504602Z",
     "start_time": "2024-07-01T19:33:53.445958Z"
    }
   },
   "cell_type": "code",
   "source": [
    "n_samples = 30\n",
    "model_name = \"gpt-3.5-turbo-0125\"\n",
    "batch_dir = PROJECT_DATA / \"batches\"\n",
    "batch_dir.mkdir(exist_ok=True)\n",
    "\n",
    "def create_batch(file_path, start, end):\n",
    "    joint_prompt = \"\"\n",
    "    with file_path.open('w') as file:\n",
    "        for i in range(start, end):\n",
    "            timeline, y = dataset[i]\n",
    "            prompt = create_prompt(timeline)\n",
    "            joint_prompt += prompt\n",
    "            json_string = json.dumps({\n",
    "                \"custom_id\": str(y[\"discharge_token_idx\"]),\n",
    "                \"method\": \"POST\",\n",
    "                \"url\": \"/v1/chat/completions\",\n",
    "                \"body\": {\n",
    "                    \"model\": model_name,\n",
    "                    \"messages\": [\n",
    "                        {\"role\": \"system\", \"content\": \"You are a prediction model able to analyse EHR data.\"},\n",
    "                        {\"role\": \"user\", \"content\": prompt},\n",
    "                    ],\n",
    "                    \"max_tokens\": 10\n",
    "                }\n",
    "            })\n",
    "            file.write(json_string + '\\n')\n",
    "    print(f\"The OpenAI token number estimate: {len(joint_prompt) / 2.6:,.0f}\")\n",
    "\n",
    "ranges = list(range(0, 1001, n_samples))\n",
    "for start, end in zip(ranges[:-1], ranges[1:]):\n",
    "    file_path = batch_dir / f'readmission_batch_[{start}-{end}).jsonl'\n",
    "    create_batch(file_path, start, end)"
   ],
   "id": "18fa05a17f89da4f",
   "outputs": [
    {
     "name": "stdout",
     "output_type": "stream",
     "text": [
      "The OpenAI token number estimate: 149,484\n",
      "The OpenAI token number estimate: 142,266\n",
      "The OpenAI token number estimate: 156,190\n",
      "The OpenAI token number estimate: 116,273\n",
      "The OpenAI token number estimate: 164,726\n",
      "The OpenAI token number estimate: 149,772\n",
      "The OpenAI token number estimate: 150,150\n",
      "The OpenAI token number estimate: 181,990\n",
      "The OpenAI token number estimate: 146,807\n",
      "The OpenAI token number estimate: 141,761\n",
      "The OpenAI token number estimate: 162,519\n",
      "The OpenAI token number estimate: 145,193\n",
      "The OpenAI token number estimate: 139,506\n",
      "The OpenAI token number estimate: 106,097\n",
      "The OpenAI token number estimate: 118,613\n",
      "The OpenAI token number estimate: 123,158\n",
      "The OpenAI token number estimate: 171,915\n",
      "The OpenAI token number estimate: 130,289\n",
      "The OpenAI token number estimate: 147,109\n",
      "The OpenAI token number estimate: 158,726\n",
      "The OpenAI token number estimate: 125,847\n",
      "The OpenAI token number estimate: 131,736\n",
      "The OpenAI token number estimate: 123,677\n",
      "The OpenAI token number estimate: 145,945\n",
      "The OpenAI token number estimate: 138,975\n",
      "The OpenAI token number estimate: 164,518\n",
      "The OpenAI token number estimate: 113,355\n",
      "The OpenAI token number estimate: 149,759\n",
      "The OpenAI token number estimate: 167,585\n",
      "The OpenAI token number estimate: 117,900\n",
      "The OpenAI token number estimate: 113,193\n",
      "The OpenAI token number estimate: 134,105\n",
      "The OpenAI token number estimate: 147,169\n"
     ]
    }
   ],
   "execution_count": 37
  },
  {
   "metadata": {
    "ExecuteTime": {
     "end_time": "2024-07-01T19:33:58.603013Z",
     "start_time": "2024-07-01T19:33:58.539659Z"
    }
   },
   "cell_type": "code",
   "source": [
    "from openai import OpenAI\n",
    "client = OpenAI()"
   ],
   "id": "fa630933bb6ae458",
   "outputs": [],
   "execution_count": 38
  },
  {
   "metadata": {
    "ExecuteTime": {
     "end_time": "2024-07-01T19:46:14.807146Z",
     "start_time": "2024-07-01T19:46:14.784119Z"
    }
   },
   "cell_type": "code",
   "source": [
    "local_batch_files = list(batch_dir.glob(\"*.jsonl\"))\n",
    "len(local_batch_files)"
   ],
   "id": "363d66074e4ae0a4",
   "outputs": [
    {
     "data": {
      "text/plain": [
       "33"
      ]
     },
     "execution_count": 49,
     "metadata": {},
     "output_type": "execute_result"
    }
   ],
   "execution_count": 49
  },
  {
   "metadata": {},
   "cell_type": "code",
   "source": [
    "def delete_all(dry_run=True):\n",
    "    files_to_delete = {fo.filename: fo.id for fo in client.files.list()}\n",
    "    for fn, f_id in files_to_delete.items():\n",
    "        if dry_run:\n",
    "            print(f\"Would delete {fn}:{f_id}\")\n",
    "        else:\n",
    "            print(f\"Deleting {fn}\")\n",
    "            client.files.delete(f_id)\n",
    "delete_all(dry_run=True)"
   ],
   "id": "e98c55842333ebfb",
   "outputs": [],
   "execution_count": null
  },
  {
   "metadata": {
    "ExecuteTime": {
     "end_time": "2024-07-01T19:43:23.780282Z",
     "start_time": "2024-07-01T19:43:23.461635Z"
    }
   },
   "cell_type": "code",
   "source": [
    "from tqdm import tqdm\n",
    "\n",
    "\n",
    "def upload(filenames: list):\n",
    "    existing_files = {fo.filename: fo.id for fo in client.files.list()}\n",
    "    for fp in tqdm(filenames, desc=\"Uploading\"):\n",
    "        if fp.name not in existing_files:\n",
    "            client.files.create(file=fp.open(\"rb\"), purpose=\"batch\")\n",
    "upload(local_batch_files)"
   ],
   "id": "1dde0757c6243448",
   "outputs": [
    {
     "name": "stderr",
     "output_type": "stream",
     "text": [
      "Uploading: 100%|██████████| 33/33 [00:00<00:00, 282473.53it/s]\n"
     ]
    }
   ],
   "execution_count": 47
  },
  {
   "metadata": {
    "ExecuteTime": {
     "end_time": "2024-07-01T20:52:18.567504Z",
     "start_time": "2024-07-01T20:52:18.308556Z"
    }
   },
   "cell_type": "code",
   "source": [
    "def get_batches_to_run() -> dict:\n",
    "    batches_filenames = [fp.name for fp in local_batch_files]\n",
    "    return {\n",
    "        fo.filename: fo.id for fo in client.files.list() \n",
    "        if fo.filename in batches_filenames\n",
    "    }\n",
    "\n",
    "def get_completed_batches(limit=50) -> dict:\n",
    "    completed_batches = [\n",
    "        batch\n",
    "        for batch in client.batches.list(limit=limit).data\n",
    "        if batch.status == \"completed\"\n",
    "    ]\n",
    "    completed_tasks = []\n",
    "    for batch in completed_batches:\n",
    "        try:\n",
    "            fo = client.files.retrieve(batch.input_file_id)\n",
    "            completed_tasks.append((fo.filename, batch.output_file_id))\n",
    "        except Exception as e:\n",
    "            pass\n",
    "    return dict(completed_tasks)\n",
    "\n",
    "batches_to_run = get_batches_to_run()"
   ],
   "id": "ced2ae47c63c988b",
   "outputs": [],
   "execution_count": 66
  },
  {
   "metadata": {
    "ExecuteTime": {
     "end_time": "2024-07-01T20:52:14.711894Z",
     "start_time": "2024-07-01T20:29:23.328328Z"
    }
   },
   "cell_type": "code",
   "source": [
    "from time import sleep\n",
    "\n",
    "batch_id = None\n",
    "running_batches = [bo for bo in client.batches.list() if bo.status == \"in_progress\"]\n",
    "if running_batches:\n",
    "    batch_id = running_batches[0].id\n",
    "\n",
    "while batches_to_run:\n",
    "    if batch_id is None:\n",
    "        completed_batches = get_completed_batches(50)\n",
    "        for cb in completed_batches.keys():\n",
    "            if cb in batches_to_run:\n",
    "                del batches_to_run[cb]\n",
    "\n",
    "        batch_name = next(iter(batches_to_run.keys()))\n",
    "        bo = client.batches.create(\n",
    "            input_file_id=batches_to_run[batch_name],\n",
    "            endpoint=\"/v1/chat/completions\",\n",
    "            completion_window=\"24h\",\n",
    "        )\n",
    "        batch_id = bo.id\n",
    "        print(f\"Started batch {batch_id} for {batch_name}.\")\n",
    "    else:\n",
    "        bo = client.batches.retrieve(batch_id)\n",
    "        if bo.status == \"completed\":\n",
    "            batch_id = None\n",
    "            print(f\"Batch {bo.id} completed. Batches remaining: {len(batches_to_run) - 1}\")\n",
    "        else:\n",
    "            print(f\"Batch {bo.id} is {bo.status}.\")\n",
    "            sleep(30)"
   ],
   "id": "7467b1862ba54dd8",
   "outputs": [
    {
     "name": "stdout",
     "output_type": "stream",
     "text": [
      "Started batch batch_tVWzYXXvhvzLoeoP2FsToLYB for readmission_batch_[750-780).jsonl.\n",
      "Batch batch_tVWzYXXvhvzLoeoP2FsToLYB is validating.\n",
      "Batch batch_tVWzYXXvhvzLoeoP2FsToLYB completed. Batches remaining: 30\n",
      "Started batch batch_6i4u2tRqkwWsXeca8TovOrYx for readmission_batch_[840-870).jsonl.\n",
      "Batch batch_6i4u2tRqkwWsXeca8TovOrYx is validating.\n",
      "Batch batch_6i4u2tRqkwWsXeca8TovOrYx completed. Batches remaining: 29\n",
      "Started batch batch_wo2POlhrSGHC1q974CNisWCA for readmission_batch_[60-90).jsonl.\n",
      "Batch batch_wo2POlhrSGHC1q974CNisWCA is validating.\n",
      "Batch batch_wo2POlhrSGHC1q974CNisWCA completed. Batches remaining: 28\n",
      "Started batch batch_BcZpzgQ317qqYzA8y90wLHzW for readmission_batch_[660-690).jsonl.\n",
      "Batch batch_BcZpzgQ317qqYzA8y90wLHzW is validating.\n",
      "Batch batch_BcZpzgQ317qqYzA8y90wLHzW completed. Batches remaining: 27\n",
      "Started batch batch_bXmQPqt6EfTjIzNGPvgMXhs3 for readmission_batch_[150-180).jsonl.\n",
      "Batch batch_bXmQPqt6EfTjIzNGPvgMXhs3 is validating.\n",
      "Batch batch_bXmQPqt6EfTjIzNGPvgMXhs3 completed. Batches remaining: 26\n",
      "Started batch batch_f6ISD82eyOiLKcYNkznZNglw for readmission_batch_[240-270).jsonl.\n",
      "Batch batch_f6ISD82eyOiLKcYNkznZNglw is validating.\n",
      "Batch batch_f6ISD82eyOiLKcYNkznZNglw completed. Batches remaining: 25\n",
      "Started batch batch_LvN6EHRAjU1NfvPImZ8ViWDx for readmission_batch_[480-510).jsonl.\n",
      "Batch batch_LvN6EHRAjU1NfvPImZ8ViWDx is validating.\n",
      "Batch batch_LvN6EHRAjU1NfvPImZ8ViWDx is in_progress.\n",
      "Batch batch_LvN6EHRAjU1NfvPImZ8ViWDx is in_progress.\n",
      "Batch batch_LvN6EHRAjU1NfvPImZ8ViWDx completed. Batches remaining: 24\n",
      "Started batch batch_f51lXhmvbnPyfOw8UGfvbxd6 for readmission_batch_[720-750).jsonl.\n",
      "Batch batch_f51lXhmvbnPyfOw8UGfvbxd6 is validating.\n",
      "Batch batch_f51lXhmvbnPyfOw8UGfvbxd6 is in_progress.\n",
      "Batch batch_f51lXhmvbnPyfOw8UGfvbxd6 is in_progress.\n",
      "Batch batch_f51lXhmvbnPyfOw8UGfvbxd6 completed. Batches remaining: 23\n",
      "Started batch batch_Di64C8TxZ4weM8Odg46njy8P for readmission_batch_[30-60).jsonl.\n",
      "Batch batch_Di64C8TxZ4weM8Odg46njy8P is validating.\n",
      "Batch batch_Di64C8TxZ4weM8Odg46njy8P completed. Batches remaining: 22\n",
      "Started batch batch_KHqs7mEPfK6VS8Ds3e1JHL4Y for readmission_batch_[330-360).jsonl.\n",
      "Batch batch_KHqs7mEPfK6VS8Ds3e1JHL4Y is validating.\n",
      "Batch batch_KHqs7mEPfK6VS8Ds3e1JHL4Y completed. Batches remaining: 21\n",
      "Started batch batch_AQvdRMNinFIiAQ10D4WnV5BL for readmission_batch_[210-240).jsonl.\n",
      "Batch batch_AQvdRMNinFIiAQ10D4WnV5BL is validating.\n",
      "Batch batch_AQvdRMNinFIiAQ10D4WnV5BL completed. Batches remaining: 20\n",
      "Started batch batch_bduhGrPPZCdw7Q2wPVljUfey for readmission_batch_[780-810).jsonl.\n",
      "Batch batch_bduhGrPPZCdw7Q2wPVljUfey is validating.\n",
      "Batch batch_bduhGrPPZCdw7Q2wPVljUfey completed. Batches remaining: 19\n",
      "Started batch batch_f6IdYctl843JNewsQIyfSQPE for readmission_batch_[960-990).jsonl.\n",
      "Batch batch_f6IdYctl843JNewsQIyfSQPE is validating.\n",
      "Batch batch_f6IdYctl843JNewsQIyfSQPE completed. Batches remaining: 18\n",
      "Started batch batch_sINLhGzVQgbbIdxl4XZWS4lN for readmission_batch_[0-30).jsonl.\n",
      "Batch batch_sINLhGzVQgbbIdxl4XZWS4lN is validating.\n",
      "Batch batch_sINLhGzVQgbbIdxl4XZWS4lN completed. Batches remaining: 17\n",
      "Started batch batch_ySAAh5ajIKpyRcki8Txd1Fn4 for readmission_batch_[90-120).jsonl.\n",
      "Batch batch_ySAAh5ajIKpyRcki8Txd1Fn4 is validating.\n",
      "Batch batch_ySAAh5ajIKpyRcki8Txd1Fn4 completed. Batches remaining: 16\n",
      "Started batch batch_ErRyaNCj6FAsv6AXxSQnVYQs for readmission_batch_[390-420).jsonl.\n",
      "Batch batch_ErRyaNCj6FAsv6AXxSQnVYQs is validating.\n",
      "Batch batch_ErRyaNCj6FAsv6AXxSQnVYQs is in_progress.\n",
      "Batch batch_ErRyaNCj6FAsv6AXxSQnVYQs is in_progress.\n",
      "Batch batch_ErRyaNCj6FAsv6AXxSQnVYQs completed. Batches remaining: 15\n",
      "Started batch batch_0MDzfRo3v2EthBLAsuUFmq8U for readmission_batch_[510-540).jsonl.\n",
      "Batch batch_0MDzfRo3v2EthBLAsuUFmq8U is validating.\n",
      "Batch batch_0MDzfRo3v2EthBLAsuUFmq8U completed. Batches remaining: 14\n",
      "Started batch batch_rOF9GwOLVUFrj6L0UcSYOQgw for readmission_batch_[930-960).jsonl.\n",
      "Batch batch_rOF9GwOLVUFrj6L0UcSYOQgw is validating.\n",
      "Batch batch_rOF9GwOLVUFrj6L0UcSYOQgw completed. Batches remaining: 13\n",
      "Started batch batch_OvTfwMIbH8D0m5zvRlKVNs2w for readmission_batch_[570-600).jsonl.\n",
      "Batch batch_OvTfwMIbH8D0m5zvRlKVNs2w is validating.\n",
      "Batch batch_OvTfwMIbH8D0m5zvRlKVNs2w is in_progress.\n",
      "Batch batch_OvTfwMIbH8D0m5zvRlKVNs2w is in_progress.\n",
      "Batch batch_OvTfwMIbH8D0m5zvRlKVNs2w completed. Batches remaining: 12\n",
      "Started batch batch_NjPxDukRwZemTj3kXABl7Mit for readmission_batch_[420-450).jsonl.\n",
      "Batch batch_NjPxDukRwZemTj3kXABl7Mit is validating.\n",
      "Batch batch_NjPxDukRwZemTj3kXABl7Mit completed. Batches remaining: 11\n",
      "Started batch batch_ZU6G9jzzPZEObZBTMhXXUHus for readmission_batch_[870-900).jsonl.\n",
      "Batch batch_ZU6G9jzzPZEObZBTMhXXUHus is validating.\n",
      "Batch batch_ZU6G9jzzPZEObZBTMhXXUHus completed. Batches remaining: 10\n",
      "Started batch batch_bF0wkUI23QfFhrF7XWYFl20i for readmission_batch_[300-330).jsonl.\n",
      "Batch batch_bF0wkUI23QfFhrF7XWYFl20i is validating.\n",
      "Batch batch_bF0wkUI23QfFhrF7XWYFl20i completed. Batches remaining: 9\n",
      "Started batch batch_kUx4rE2fhtOf8vBALHGv2qkv for readmission_batch_[690-720).jsonl.\n",
      "Batch batch_kUx4rE2fhtOf8vBALHGv2qkv is validating.\n",
      "Batch batch_kUx4rE2fhtOf8vBALHGv2qkv completed. Batches remaining: 8\n",
      "Started batch batch_ANlOPdnMsf5GAfyHInOY5gRl for readmission_batch_[600-630).jsonl.\n",
      "Batch batch_ANlOPdnMsf5GAfyHInOY5gRl is validating.\n",
      "Batch batch_ANlOPdnMsf5GAfyHInOY5gRl completed. Batches remaining: 7\n",
      "Started batch batch_D0wG9cNcpptYtMER2YWCJIeU for readmission_batch_[360-390).jsonl.\n",
      "Batch batch_D0wG9cNcpptYtMER2YWCJIeU is validating.\n",
      "Batch batch_D0wG9cNcpptYtMER2YWCJIeU completed. Batches remaining: 6\n",
      "Started batch batch_ukaOWQ4TnYnCftOr1u0iFudC for readmission_batch_[450-480).jsonl.\n",
      "Batch batch_ukaOWQ4TnYnCftOr1u0iFudC is validating.\n",
      "Batch batch_ukaOWQ4TnYnCftOr1u0iFudC completed. Batches remaining: 5\n",
      "Started batch batch_bNKY03hFFNJEuNFaVQNq1Wp1 for readmission_batch_[180-210).jsonl.\n",
      "Batch batch_bNKY03hFFNJEuNFaVQNq1Wp1 is validating.\n",
      "Batch batch_bNKY03hFFNJEuNFaVQNq1Wp1 completed. Batches remaining: 4\n",
      "Started batch batch_32FWEmv86U3qjK1W7VpZuKDI for readmission_batch_[270-300).jsonl.\n",
      "Batch batch_32FWEmv86U3qjK1W7VpZuKDI is validating.\n",
      "Batch batch_32FWEmv86U3qjK1W7VpZuKDI completed. Batches remaining: 3\n",
      "Started batch batch_CfNF6pScbQvG66JZ3bXVjUHi for readmission_batch_[120-150).jsonl.\n",
      "Batch batch_CfNF6pScbQvG66JZ3bXVjUHi is validating.\n",
      "Batch batch_CfNF6pScbQvG66JZ3bXVjUHi completed. Batches remaining: 2\n",
      "Started batch batch_bYgVvyXAOGQ18mBkkxAEAMFP for readmission_batch_[630-660).jsonl.\n",
      "Batch batch_bYgVvyXAOGQ18mBkkxAEAMFP is validating.\n",
      "Batch batch_bYgVvyXAOGQ18mBkkxAEAMFP is in_progress.\n",
      "Batch batch_bYgVvyXAOGQ18mBkkxAEAMFP is in_progress.\n",
      "Batch batch_bYgVvyXAOGQ18mBkkxAEAMFP completed. Batches remaining: 1\n",
      "Started batch batch_PQl3NwVywO0Tv5r2e0YPybGi for readmission_batch_[540-570).jsonl.\n",
      "Batch batch_PQl3NwVywO0Tv5r2e0YPybGi is validating.\n",
      "Batch batch_PQl3NwVywO0Tv5r2e0YPybGi completed. Batches remaining: 0\n"
     ]
    },
    {
     "ename": "StopIteration",
     "evalue": "",
     "output_type": "error",
     "traceback": [
      "\u001B[0;31m---------------------------------------------------------------------------\u001B[0m",
      "\u001B[0;31mStopIteration\u001B[0m                             Traceback (most recent call last)",
      "Cell \u001B[0;32mIn[65], line 15\u001B[0m\n\u001B[1;32m     12\u001B[0m     \u001B[38;5;28;01mif\u001B[39;00m cb \u001B[38;5;129;01min\u001B[39;00m batches_to_run:\n\u001B[1;32m     13\u001B[0m         \u001B[38;5;28;01mdel\u001B[39;00m batches_to_run[cb]\n\u001B[0;32m---> 15\u001B[0m batch_name \u001B[38;5;241m=\u001B[39m \u001B[38;5;28;43mnext\u001B[39;49m\u001B[43m(\u001B[49m\u001B[38;5;28;43miter\u001B[39;49m\u001B[43m(\u001B[49m\u001B[43mbatches_to_run\u001B[49m\u001B[38;5;241;43m.\u001B[39;49m\u001B[43mkeys\u001B[49m\u001B[43m(\u001B[49m\u001B[43m)\u001B[49m\u001B[43m)\u001B[49m\u001B[43m)\u001B[49m\n\u001B[1;32m     16\u001B[0m bo \u001B[38;5;241m=\u001B[39m client\u001B[38;5;241m.\u001B[39mbatches\u001B[38;5;241m.\u001B[39mcreate(\n\u001B[1;32m     17\u001B[0m     input_file_id\u001B[38;5;241m=\u001B[39mbatches_to_run[batch_name],\n\u001B[1;32m     18\u001B[0m     endpoint\u001B[38;5;241m=\u001B[39m\u001B[38;5;124m\"\u001B[39m\u001B[38;5;124m/v1/chat/completions\u001B[39m\u001B[38;5;124m\"\u001B[39m,\n\u001B[1;32m     19\u001B[0m     completion_window\u001B[38;5;241m=\u001B[39m\u001B[38;5;124m\"\u001B[39m\u001B[38;5;124m24h\u001B[39m\u001B[38;5;124m\"\u001B[39m,\n\u001B[1;32m     20\u001B[0m )\n\u001B[1;32m     21\u001B[0m batch_id \u001B[38;5;241m=\u001B[39m bo\u001B[38;5;241m.\u001B[39mid\n",
      "\u001B[0;31mStopIteration\u001B[0m: "
     ]
    }
   ],
   "execution_count": 65
  },
  {
   "metadata": {
    "ExecuteTime": {
     "end_time": "2024-07-01T20:52:37.689019Z",
     "start_time": "2024-07-01T20:52:22.084206Z"
    }
   },
   "cell_type": "code",
   "source": [
    "import json\n",
    "\n",
    "def read_jsonl_file(file_id):\n",
    "    fo = client.files.content(file_id)\n",
    "    return [\n",
    "        json.loads(line)\n",
    "        for line in fo.iter_lines()\n",
    "    ]\n",
    "\n",
    "def get_answers(file_id) -> dict:\n",
    "    responses = []\n",
    "    for response in read_jsonl_file(file_id):\n",
    "        custom_id = int(response[\"custom_id\"])\n",
    "        answer = response[\"response\"][\"body\"][\"choices\"][0][\"message\"][\"content\"]\n",
    "        try:\n",
    "            answer = float(answer.strip())\n",
    "        except ValueError:\n",
    "            answer = None\n",
    "        responses.append((custom_id, answer))\n",
    "    return dict(responses)\n",
    "\n",
    "\n",
    "answers = {}\n",
    "for output_file_id in tqdm(list(get_completed_batches().values())):\n",
    "    answers.update(get_answers(output_file_id))"
   ],
   "id": "2f7c35e67b69ef7c",
   "outputs": [
    {
     "name": "stderr",
     "output_type": "stream",
     "text": [
      "100%|██████████| 33/33 [00:09<00:00,  3.32it/s]\n"
     ]
    }
   ],
   "execution_count": 67
  },
  {
   "metadata": {
    "ExecuteTime": {
     "end_time": "2024-07-01T21:00:20.268848Z",
     "start_time": "2024-07-01T21:00:20.027989Z"
    }
   },
   "cell_type": "code",
   "source": [
    "import pandas as pd\n",
    "data = (dataset[i] for i in range(1000))\n",
    "results = pd.DataFrame([y for _, y in data])\n",
    "results = results.join(pd.Series(answers, name=\"actual\"), on=\"discharge_token_idx\", how=\"inner\")\n",
    "results = results.loc[results.actual.notna()]\n",
    "results"
   ],
   "id": "338e489e8008bf5d",
   "outputs": [
    {
     "data": {
      "text/plain": [
       "     expected  true_token_dist  true_token_time  patient_id  patient_age  \\\n",
       "0           1            604.0         7.007484    11593131    58.606831   \n",
       "1           0              NaN              NaN    11593131    65.623535   \n",
       "2           1             82.0         0.037006    13662342    60.351105   \n",
       "3           1            109.0         0.059303    13662342    60.378563   \n",
       "4           1            132.0         0.043152    13662342    60.502312   \n",
       "..        ...              ...              ...         ...          ...   \n",
       "985         1            108.0         0.028862    14033331    66.660583   \n",
       "986         1             95.0         0.012497    14033331    66.695839   \n",
       "987         1             90.0         0.025787    14033331    66.732910   \n",
       "988         1            147.0         0.042534    14033331    66.743904   \n",
       "989         1             81.0         0.028687    14033331    66.771790   \n",
       "\n",
       "     discharge_token_idx  actual  \n",
       "0                    285    0.45  \n",
       "1                   2148    0.35  \n",
       "2                   5872    0.65  \n",
       "3                   6403    0.12  \n",
       "4                   7464    0.85  \n",
       "..                   ...     ...  \n",
       "985               760395    0.45  \n",
       "986               761202    0.40  \n",
       "987               761523    0.82  \n",
       "988               761879    0.83  \n",
       "989               762358    0.75  \n",
       "\n",
       "[989 rows x 7 columns]"
      ],
      "text/html": [
       "<div>\n",
       "<style scoped>\n",
       "    .dataframe tbody tr th:only-of-type {\n",
       "        vertical-align: middle;\n",
       "    }\n",
       "\n",
       "    .dataframe tbody tr th {\n",
       "        vertical-align: top;\n",
       "    }\n",
       "\n",
       "    .dataframe thead th {\n",
       "        text-align: right;\n",
       "    }\n",
       "</style>\n",
       "<table border=\"1\" class=\"dataframe\">\n",
       "  <thead>\n",
       "    <tr style=\"text-align: right;\">\n",
       "      <th></th>\n",
       "      <th>expected</th>\n",
       "      <th>true_token_dist</th>\n",
       "      <th>true_token_time</th>\n",
       "      <th>patient_id</th>\n",
       "      <th>patient_age</th>\n",
       "      <th>discharge_token_idx</th>\n",
       "      <th>actual</th>\n",
       "    </tr>\n",
       "  </thead>\n",
       "  <tbody>\n",
       "    <tr>\n",
       "      <th>0</th>\n",
       "      <td>1</td>\n",
       "      <td>604.0</td>\n",
       "      <td>7.007484</td>\n",
       "      <td>11593131</td>\n",
       "      <td>58.606831</td>\n",
       "      <td>285</td>\n",
       "      <td>0.45</td>\n",
       "    </tr>\n",
       "    <tr>\n",
       "      <th>1</th>\n",
       "      <td>0</td>\n",
       "      <td>NaN</td>\n",
       "      <td>NaN</td>\n",
       "      <td>11593131</td>\n",
       "      <td>65.623535</td>\n",
       "      <td>2148</td>\n",
       "      <td>0.35</td>\n",
       "    </tr>\n",
       "    <tr>\n",
       "      <th>2</th>\n",
       "      <td>1</td>\n",
       "      <td>82.0</td>\n",
       "      <td>0.037006</td>\n",
       "      <td>13662342</td>\n",
       "      <td>60.351105</td>\n",
       "      <td>5872</td>\n",
       "      <td>0.65</td>\n",
       "    </tr>\n",
       "    <tr>\n",
       "      <th>3</th>\n",
       "      <td>1</td>\n",
       "      <td>109.0</td>\n",
       "      <td>0.059303</td>\n",
       "      <td>13662342</td>\n",
       "      <td>60.378563</td>\n",
       "      <td>6403</td>\n",
       "      <td>0.12</td>\n",
       "    </tr>\n",
       "    <tr>\n",
       "      <th>4</th>\n",
       "      <td>1</td>\n",
       "      <td>132.0</td>\n",
       "      <td>0.043152</td>\n",
       "      <td>13662342</td>\n",
       "      <td>60.502312</td>\n",
       "      <td>7464</td>\n",
       "      <td>0.85</td>\n",
       "    </tr>\n",
       "    <tr>\n",
       "      <th>...</th>\n",
       "      <td>...</td>\n",
       "      <td>...</td>\n",
       "      <td>...</td>\n",
       "      <td>...</td>\n",
       "      <td>...</td>\n",
       "      <td>...</td>\n",
       "      <td>...</td>\n",
       "    </tr>\n",
       "    <tr>\n",
       "      <th>985</th>\n",
       "      <td>1</td>\n",
       "      <td>108.0</td>\n",
       "      <td>0.028862</td>\n",
       "      <td>14033331</td>\n",
       "      <td>66.660583</td>\n",
       "      <td>760395</td>\n",
       "      <td>0.45</td>\n",
       "    </tr>\n",
       "    <tr>\n",
       "      <th>986</th>\n",
       "      <td>1</td>\n",
       "      <td>95.0</td>\n",
       "      <td>0.012497</td>\n",
       "      <td>14033331</td>\n",
       "      <td>66.695839</td>\n",
       "      <td>761202</td>\n",
       "      <td>0.40</td>\n",
       "    </tr>\n",
       "    <tr>\n",
       "      <th>987</th>\n",
       "      <td>1</td>\n",
       "      <td>90.0</td>\n",
       "      <td>0.025787</td>\n",
       "      <td>14033331</td>\n",
       "      <td>66.732910</td>\n",
       "      <td>761523</td>\n",
       "      <td>0.82</td>\n",
       "    </tr>\n",
       "    <tr>\n",
       "      <th>988</th>\n",
       "      <td>1</td>\n",
       "      <td>147.0</td>\n",
       "      <td>0.042534</td>\n",
       "      <td>14033331</td>\n",
       "      <td>66.743904</td>\n",
       "      <td>761879</td>\n",
       "      <td>0.83</td>\n",
       "    </tr>\n",
       "    <tr>\n",
       "      <th>989</th>\n",
       "      <td>1</td>\n",
       "      <td>81.0</td>\n",
       "      <td>0.028687</td>\n",
       "      <td>14033331</td>\n",
       "      <td>66.771790</td>\n",
       "      <td>762358</td>\n",
       "      <td>0.75</td>\n",
       "    </tr>\n",
       "  </tbody>\n",
       "</table>\n",
       "<p>989 rows × 7 columns</p>\n",
       "</div>"
      ]
     },
     "execution_count": 83,
     "metadata": {},
     "output_type": "execute_result"
    }
   ],
   "execution_count": 83
  },
  {
   "metadata": {
    "ExecuteTime": {
     "end_time": "2024-07-01T21:00:23.777120Z",
     "start_time": "2024-07-01T21:00:23.437577Z"
    }
   },
   "cell_type": "code",
   "source": [
    "from ethos.metrics import compute_basic_metrics, compute_gaussian_metrics, print_auc_roc_plot\n",
    "\n",
    "basic_res = compute_basic_metrics(results[\"expected\"], results[\"actual\"])\n",
    "gaussian_res = compute_gaussian_metrics(results[\"expected\"], results[\"actual\"])\n",
    "print_auc_roc_plot(\n",
    "    basic_res, gaussian_res, f\"MIMIC - 30-Day Inpatient Readmission\"\n",
    ")"
   ],
   "id": "7bae780e538c8219",
   "outputs": [
    {
     "data": {
      "text/plain": [
       "<Figure size 640x480 with 1 Axes>"
      ],
      "image/png": "[encoded data removed]"
     },
     "metadata": {},
     "output_type": "display_data"
    }
   ],
   "execution_count": 84
  }
 ],
 "metadata": {
  "kernelspec": {
   "display_name": "Python 3",
   "language": "python",
   "name": "python3"
  },
  "language_info": {
   "codemirror_mode": {
    "name": "ipython",
    "version": 2
   },
   "file_extension": ".py",
   "mimetype": "text/x-python",
   "name": "python",
   "nbconvert_exporter": "python",
   "pygments_lexer": "ipython2",
   "version": "2.7.6"
  }
 },
 "nbformat": 4,
 "nbformat_minor": 5
}
