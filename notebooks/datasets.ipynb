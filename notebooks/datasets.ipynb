{
 "cells": [
  {
   "cell_type": "code",
   "execution_count": 12,
   "metadata": {
    "ExecuteTime": {
     "end_time": "2024-02-27T00:05:57.456491380Z",
     "start_time": "2024-02-27T00:05:57.438747127Z"
    },
    "collapsed": false
   },
   "outputs": [
    {
     "name": "stdout",
     "output_type": "stream",
     "text": [
      "The autoreload extension is already loaded. To reload it, use:\n",
      "  %reload_ext autoreload\n"
     ]
    }
   ],
   "source": [
    "%load_ext autoreload\n",
    "%autoreload 2"
   ]
  },
  {
   "cell_type": "code",
   "execution_count": 13,
   "metadata": {},
   "outputs": [
    {
     "name": "stdout",
     "output_type": "stream",
     "text": [
      "['__annotations__', '__class__', '__delattr__', '__dict__', '__dir__', '__doc__', '__eq__', '__format__', '__ge__', '__getattribute__', '__getstate__', '__gt__', '__hash__', '__init__', '__init_subclass__', '__le__', '__len__', '__lt__', '__module__', '__ne__', '__new__', '__reduce__', '__reduce_ex__', '__repr__', '__setattr__', '__sizeof__', '__str__', '__subclasshook__', '__weakref__', '_itos', '_meta', '_q_storages', '_stoi', 'add_meta', 'add_q_storage', 'decode', 'encode', 'get_q_storage', 'get_timeline_total_time', 'itos', 'meta', 'stoi', 'to_pickle', 'tokenize']\n"
     ]
    }
   ],
   "source": [
    "# Print the available methods and attributes of the vocab object\n",
    "print(dir(vocab))\n",
    "\n"
   ]
  },
  {
   "cell_type": "code",
   "execution_count": 17,
   "metadata": {
    "ExecuteTime": {
     "end_time": "2024-02-27T00:06:00.765366734Z",
     "start_time": "2024-02-27T00:05:57.438884890Z"
    },
    "collapsed": false
   },
   "outputs": [
    {
     "data": {
      "text/plain": [
       "'Number of instances: 44'"
      ]
     },
     "execution_count": 17,
     "metadata": {},
     "output_type": "execute_result"
    }
   ],
   "source": [
    "from torch.utils.data import DataLoader\n",
    "\n",
    "from ethos.constants import PROJECT_DATA\n",
    "from ethos.datasets import AdmissionMortalityDataset\n",
    "from ethos.tokenize import Vocabulary\n",
    "from ethos.utils import load_data\n",
    "\n",
    "data_dir = PROJECT_DATA / \"tokenized_datasets\"\n",
    "\n",
    "vocab = Vocabulary(data_dir / \"mimic_vocab_t763.pkl\")\n",
    "decode = vocab.decode\n",
    "\n",
    "data = load_data(data_dir / \"mimic_test_timelines_p10.hdf5\")\n",
    "dataset = AdmissionMortalityDataset(data, vocab.encode, 2048)\n",
    "loader = iter(DataLoader(dataset, batch_size=None, batch_sampler=None))\n",
    "f\"Number of instances: {len(dataset):,}\""
   ]
  },
  {
   "cell_type": "code",
   "execution_count": 18,
   "metadata": {
    "ExecuteTime": {
     "end_time": "2024-02-27T00:06:00.807521186Z",
     "start_time": "2024-02-27T00:06:00.767719199Z"
    },
    "collapsed": false
   },
   "outputs": [
    {
     "data": {
      "text/plain": [
       "(array(['SEX_M', 'RACE_WHITE', 'MARITAL_MARRIED', '_Q5', '_60-65y',\n",
       "        '_40-45y', 'ED_ADMISSION_START', '_15m-1h',\n",
       "        'INPATIENT_ADMISSION_START'], dtype=object),\n",
       " {'expected': 97,\n",
       "  'true_token_dist': 2444,\n",
       "  'true_token_time': 0.08013534545898438,\n",
       "  'patient_id': 10035631,\n",
       "  'patient_age': 63.21363830566406,\n",
       "  'admission_token_idx': 2,\n",
       "  'year': 2012.213623046875})"
      ]
     },
     "execution_count": 18,
     "metadata": {},
     "output_type": "execute_result"
    }
   ],
   "source": [
    "timeline, y = dataset[0]\n",
    "decode(timeline[:]), y"
   ]
  },
  {
   "cell_type": "code",
   "execution_count": 19,
   "metadata": {
    "ExecuteTime": {
     "end_time": "2024-02-27T00:06:00.844170537Z",
     "start_time": "2024-02-27T00:06:00.794999264Z"
    },
    "collapsed": false
   },
   "outputs": [
    {
     "data": {
      "text/plain": [
       "(['LAB_Epithelial Cells_#/hpf',\n",
       "  '_Q4',\n",
       "  'LAB_pH_units',\n",
       "  '_Q2',\n",
       "  'LAB_Protein_mg/dL',\n",
       "  '_Q1',\n",
       "  'LAB_RBC_#/hpf',\n",
       "  '_Q3',\n",
       "  '_15m-1h',\n",
       "  'INPATIENT_ADMISSION_START'],\n",
       " 2048,\n",
       " '_DEATH')"
      ]
     },
     "execution_count": 19,
     "metadata": {},
     "output_type": "execute_result"
    }
   ],
   "source": [
    "timeline, y = next(loader)\n",
    "while decode(y[\"expected\"]) != \"_DEATH\":\n",
    "    timeline, y = next(loader)\n",
    "list(decode(timeline[-10:])), len(timeline), decode(y[\"expected\"])"
   ]
  }
 ],
 "metadata": {
  "kernelspec": {
   "display_name": "env_ethos",
   "language": "python",
   "name": "python3"
  },
  "language_info": {
   "codemirror_mode": {
    "name": "ipython",
    "version": 3
   },
   "file_extension": ".py",
   "mimetype": "text/x-python",
   "name": "python",
   "nbconvert_exporter": "python",
   "pygments_lexer": "ipython3",
   "version": "3.12.7"
  }
 },
 "nbformat": 4,
 "nbformat_minor": 0
}
