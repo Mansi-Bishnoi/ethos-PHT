{
 "cells": [
  {
   "cell_type": "code",
   "execution_count": null,
   "metadata": {
    "vscode": {
     "languageId": "plaintext"
    }
   },
   "outputs": [],
   "source": []
  },
  {
   "cell_type": "code",
   "execution_count": null,
   "metadata": {
    "vscode": {
     "languageId": "plaintext"
    }
   },
   "outputs": [],
   "source": [
    "def run_inference(loader, args, num_gpus: int = 8):\n",
    "    model, device, vocab, stoi, results_dir, test_name, suffix, no_compile = args\n",
    "\n",
    "    proc_name, proc_num = get_process_info()\n",
    "    if device == \"cuda\":\n",
    "        device = f\"cuda:{proc_num % num_gpus}\"\n",
    "        th.cuda.set_device(device)\n",
    "    model.to(device)\n",
    "    if not no_compile:\n",
    "        model = th.compile(model)\n",
    "\n",
    "    dataset = loader.dataset.dataset\n",
    "    context_len = dataset.context_len\n",
    "    timeline_len = dataset.timeline_len\n",
    "    max_timeline_size = context_len + timeline_len\n",
    "    time_limit = 30 / 365.25 if test_name == Test.READMISSION else 2\n",
    "    toi = th.tensor(vocab.encode(stoi), device=device, dtype=th.long)\n",
    "\n",
    "    results = []\n",
    "    for timeline, ground_truth in tqdm(\n",
    "        loader, proc_name, total=len(loader), position=proc_num, smoothing=0\n",
    "    ):\n",
    "        timeline = timeline.to(device)\n",
    "        gen_token_num = 0\n",
    "        offset = 0\n",
    "        while True:\n",
    "            if test_name == Test.SOFA_PREDICTION and gen_token_num == 1:\n",
    "                # append a sofa token to the timeline and continue generating\n",
    "                last_token = th.tensor(\n",
    "                    vocab.encode([\"SOFA\"]), device=timeline.device, dtype=th.long\n",
    "                )\n",
    "            else:\n",
    "                last_token, probs = model.get_next_token(timeline[None, ...], return_probs=True)\n",
    "\n",
    "            if not offset and len(timeline) == max_timeline_size:\n",
    "                offset = 1\n",
    "\n",
    "            timeline = th.cat(\n",
    "                (timeline[:context_len], timeline[context_len + offset :], last_token.view(-1)),\n",
    "            )\n",
    "            gen_token_num += 1"
   ]
  }
 ],
 "metadata": {
  "language_info": {
   "name": "python"
  }
 },
 "nbformat": 4,
 "nbformat_minor": 2
}
